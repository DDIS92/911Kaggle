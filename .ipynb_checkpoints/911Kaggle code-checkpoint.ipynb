{
 "cells": [
  {
   "cell_type": "code",
   "execution_count": 1,
   "metadata": {
    "collapsed": true
   },
   "outputs": [],
   "source": [
    "# import something or python is useless...\n",
    "import pandas as pd\n",
    "import numpy as np"
   ]
  },
  {
   "cell_type": "code",
   "execution_count": 2,
   "metadata": {
    "collapsed": true
   },
   "outputs": [],
   "source": [
    "# read the training file to see what mess we have...\n",
    "df = pd.read_csv('assets/data/train_911.csv')"
   ]
  },
  {
   "cell_type": "code",
   "execution_count": 3,
   "metadata": {
    "collapsed": false
   },
   "outputs": [
    {
     "data": {
      "text/html": [
       "<div>\n",
       "<table border=\"1\" class=\"dataframe\">\n",
       "  <thead>\n",
       "    <tr style=\"text-align: right;\">\n",
       "      <th></th>\n",
       "      <th>id</th>\n",
       "      <th>lat</th>\n",
       "      <th>lng</th>\n",
       "      <th>desc</th>\n",
       "      <th>zip</th>\n",
       "      <th>timeStamp</th>\n",
       "      <th>twp</th>\n",
       "      <th>addr</th>\n",
       "      <th>e</th>\n",
       "      <th>emergencytype</th>\n",
       "      <th>emergencysubtype</th>\n",
       "    </tr>\n",
       "  </thead>\n",
       "  <tbody>\n",
       "    <tr>\n",
       "      <th>0</th>\n",
       "      <td>0</td>\n",
       "      <td>40.297876</td>\n",
       "      <td>-75.581294</td>\n",
       "      <td>REINDEER CT &amp; DEAD END;  NEW HANOVER; Station ...</td>\n",
       "      <td>19525.0</td>\n",
       "      <td>2015-12-10 17:40:00</td>\n",
       "      <td>NEW HANOVER</td>\n",
       "      <td>REINDEER CT &amp; DEAD END</td>\n",
       "      <td>1</td>\n",
       "      <td>EMS</td>\n",
       "      <td>BACK PAINS/INJURY</td>\n",
       "    </tr>\n",
       "    <tr>\n",
       "      <th>1</th>\n",
       "      <td>1</td>\n",
       "      <td>40.258061</td>\n",
       "      <td>-75.264680</td>\n",
       "      <td>BRIAR PATH &amp; WHITEMARSH LN;  HATFIELD TOWNSHIP...</td>\n",
       "      <td>19446.0</td>\n",
       "      <td>2015-12-10 17:40:00</td>\n",
       "      <td>HATFIELD TOWNSHIP</td>\n",
       "      <td>BRIAR PATH &amp; WHITEMARSH LN</td>\n",
       "      <td>1</td>\n",
       "      <td>EMS</td>\n",
       "      <td>DIABETIC EMERGENCY</td>\n",
       "    </tr>\n",
       "    <tr>\n",
       "      <th>2</th>\n",
       "      <td>2</td>\n",
       "      <td>40.121182</td>\n",
       "      <td>-75.351975</td>\n",
       "      <td>HAWS AVE; NORRISTOWN; 2015-12-10 @ 14:39:21-St...</td>\n",
       "      <td>19401.0</td>\n",
       "      <td>2015-12-10 17:40:00</td>\n",
       "      <td>NORRISTOWN</td>\n",
       "      <td>HAWS AVE</td>\n",
       "      <td>1</td>\n",
       "      <td>Fire</td>\n",
       "      <td>GAS-ODOR/LEAK</td>\n",
       "    </tr>\n",
       "  </tbody>\n",
       "</table>\n",
       "</div>"
      ],
      "text/plain": [
       "   id        lat        lng  \\\n",
       "0   0  40.297876 -75.581294   \n",
       "1   1  40.258061 -75.264680   \n",
       "2   2  40.121182 -75.351975   \n",
       "\n",
       "                                                desc      zip  \\\n",
       "0  REINDEER CT & DEAD END;  NEW HANOVER; Station ...  19525.0   \n",
       "1  BRIAR PATH & WHITEMARSH LN;  HATFIELD TOWNSHIP...  19446.0   \n",
       "2  HAWS AVE; NORRISTOWN; 2015-12-10 @ 14:39:21-St...  19401.0   \n",
       "\n",
       "             timeStamp                twp                        addr  e  \\\n",
       "0  2015-12-10 17:40:00        NEW HANOVER      REINDEER CT & DEAD END  1   \n",
       "1  2015-12-10 17:40:00  HATFIELD TOWNSHIP  BRIAR PATH & WHITEMARSH LN  1   \n",
       "2  2015-12-10 17:40:00         NORRISTOWN                    HAWS AVE  1   \n",
       "\n",
       "  emergencytype    emergencysubtype  \n",
       "0           EMS   BACK PAINS/INJURY  \n",
       "1           EMS  DIABETIC EMERGENCY  \n",
       "2          Fire       GAS-ODOR/LEAK  "
      ]
     },
     "execution_count": 3,
     "metadata": {},
     "output_type": "execute_result"
    }
   ],
   "source": [
    "# look at the headers...\n",
    "df.head(3)"
   ]
  },
  {
   "cell_type": "code",
   "execution_count": 4,
   "metadata": {
    "collapsed": false
   },
   "outputs": [],
   "source": [
    "# convert date time to date time\n",
    "df.timeStamp = pd.to_datetime(df.timeStamp)"
   ]
  },
  {
   "cell_type": "code",
   "execution_count": 5,
   "metadata": {
    "collapsed": false
   },
   "outputs": [
    {
     "name": "stdout",
     "output_type": "stream",
     "text": [
      "<class 'pandas.core.frame.DataFrame'>\n",
      "RangeIndex: 77691 entries, 0 to 77690\n",
      "Data columns (total 11 columns):\n",
      "id                  77691 non-null int64\n",
      "lat                 77691 non-null float64\n",
      "lng                 77691 non-null float64\n",
      "desc                77691 non-null object\n",
      "zip                 67675 non-null float64\n",
      "timeStamp           77691 non-null datetime64[ns]\n",
      "twp                 77657 non-null object\n",
      "addr                77277 non-null object\n",
      "e                   77691 non-null int64\n",
      "emergencytype       77691 non-null object\n",
      "emergencysubtype    77691 non-null object\n",
      "dtypes: datetime64[ns](1), float64(3), int64(2), object(5)\n",
      "memory usage: 6.5+ MB\n"
     ]
    }
   ],
   "source": [
    "# check the data types and see where our blank fields are...\n",
    "df.info()"
   ]
  },
  {
   "cell_type": "code",
   "execution_count": 6,
   "metadata": {
    "collapsed": false
   },
   "outputs": [
    {
     "data": {
      "text/html": [
       "<div>\n",
       "<table border=\"1\" class=\"dataframe\">\n",
       "  <thead>\n",
       "    <tr style=\"text-align: right;\">\n",
       "      <th></th>\n",
       "      <th>id</th>\n",
       "      <th>lat</th>\n",
       "      <th>lng</th>\n",
       "      <th>desc</th>\n",
       "      <th>zip</th>\n",
       "      <th>twp</th>\n",
       "      <th>addr</th>\n",
       "      <th>e</th>\n",
       "      <th>emergencytype</th>\n",
       "      <th>emergencysubtype</th>\n",
       "    </tr>\n",
       "    <tr>\n",
       "      <th>timeStamp</th>\n",
       "      <th></th>\n",
       "      <th></th>\n",
       "      <th></th>\n",
       "      <th></th>\n",
       "      <th></th>\n",
       "      <th></th>\n",
       "      <th></th>\n",
       "      <th></th>\n",
       "      <th></th>\n",
       "      <th></th>\n",
       "    </tr>\n",
       "  </thead>\n",
       "  <tbody>\n",
       "    <tr>\n",
       "      <th>2015-12-10 17:40:00</th>\n",
       "      <td>0</td>\n",
       "      <td>40.297876</td>\n",
       "      <td>-75.581294</td>\n",
       "      <td>REINDEER CT &amp; DEAD END;  NEW HANOVER; Station ...</td>\n",
       "      <td>19525.0</td>\n",
       "      <td>NEW HANOVER</td>\n",
       "      <td>REINDEER CT &amp; DEAD END</td>\n",
       "      <td>1</td>\n",
       "      <td>EMS</td>\n",
       "      <td>BACK PAINS/INJURY</td>\n",
       "    </tr>\n",
       "    <tr>\n",
       "      <th>2015-12-10 17:40:00</th>\n",
       "      <td>1</td>\n",
       "      <td>40.258061</td>\n",
       "      <td>-75.264680</td>\n",
       "      <td>BRIAR PATH &amp; WHITEMARSH LN;  HATFIELD TOWNSHIP...</td>\n",
       "      <td>19446.0</td>\n",
       "      <td>HATFIELD TOWNSHIP</td>\n",
       "      <td>BRIAR PATH &amp; WHITEMARSH LN</td>\n",
       "      <td>1</td>\n",
       "      <td>EMS</td>\n",
       "      <td>DIABETIC EMERGENCY</td>\n",
       "    </tr>\n",
       "    <tr>\n",
       "      <th>2015-12-10 17:40:00</th>\n",
       "      <td>2</td>\n",
       "      <td>40.121182</td>\n",
       "      <td>-75.351975</td>\n",
       "      <td>HAWS AVE; NORRISTOWN; 2015-12-10 @ 14:39:21-St...</td>\n",
       "      <td>19401.0</td>\n",
       "      <td>NORRISTOWN</td>\n",
       "      <td>HAWS AVE</td>\n",
       "      <td>1</td>\n",
       "      <td>Fire</td>\n",
       "      <td>GAS-ODOR/LEAK</td>\n",
       "    </tr>\n",
       "  </tbody>\n",
       "</table>\n",
       "</div>"
      ],
      "text/plain": [
       "                     id        lat        lng  \\\n",
       "timeStamp                                       \n",
       "2015-12-10 17:40:00   0  40.297876 -75.581294   \n",
       "2015-12-10 17:40:00   1  40.258061 -75.264680   \n",
       "2015-12-10 17:40:00   2  40.121182 -75.351975   \n",
       "\n",
       "                                                                  desc  \\\n",
       "timeStamp                                                                \n",
       "2015-12-10 17:40:00  REINDEER CT & DEAD END;  NEW HANOVER; Station ...   \n",
       "2015-12-10 17:40:00  BRIAR PATH & WHITEMARSH LN;  HATFIELD TOWNSHIP...   \n",
       "2015-12-10 17:40:00  HAWS AVE; NORRISTOWN; 2015-12-10 @ 14:39:21-St...   \n",
       "\n",
       "                         zip                twp                        addr  \\\n",
       "timeStamp                                                                     \n",
       "2015-12-10 17:40:00  19525.0        NEW HANOVER      REINDEER CT & DEAD END   \n",
       "2015-12-10 17:40:00  19446.0  HATFIELD TOWNSHIP  BRIAR PATH & WHITEMARSH LN   \n",
       "2015-12-10 17:40:00  19401.0         NORRISTOWN                    HAWS AVE   \n",
       "\n",
       "                     e emergencytype    emergencysubtype  \n",
       "timeStamp                                                 \n",
       "2015-12-10 17:40:00  1           EMS   BACK PAINS/INJURY  \n",
       "2015-12-10 17:40:00  1           EMS  DIABETIC EMERGENCY  \n",
       "2015-12-10 17:40:00  1          Fire       GAS-ODOR/LEAK  "
      ]
     },
     "execution_count": 6,
     "metadata": {},
     "output_type": "execute_result"
    }
   ],
   "source": [
    "# make time stamp the index\n",
    "df.set_index('timeStamp', inplace=True)\n",
    "df.head(3)"
   ]
  },
  {
   "cell_type": "code",
   "execution_count": 7,
   "metadata": {
    "collapsed": false
   },
   "outputs": [
    {
     "data": {
      "text/plain": [
       "67626"
      ]
     },
     "execution_count": 7,
     "metadata": {},
     "output_type": "execute_result"
    }
   ],
   "source": [
    "# Lazy mode\n",
    "\n",
    "# What happens if we drop na?\n",
    "data = df.dropna()\n",
    "len(data)"
   ]
  },
  {
   "cell_type": "code",
   "execution_count": 8,
   "metadata": {
    "collapsed": true
   },
   "outputs": [],
   "source": [
    "# 67626 non-blank record seems not bad la...\n",
    "\n",
    "# continue lazy mode!!"
   ]
  },
  {
   "cell_type": "markdown",
   "metadata": {},
   "source": [
    "```python\n",
    "list(data.columns)\n",
    "\n",
    "\n",
    "col = ['id', # key\n",
    "       'lat', # location\n",
    "       'lng', # location\n",
    "       'desc', # free text\n",
    "       'zip', # location\n",
    "       'twp', # location\n",
    "       'addr', # location\n",
    "       'e', # unknown data?\n",
    "       'emergencytype', # categorical\n",
    "       'emergencysubtype' # categorical\n",
    "       ]\n",
    " ```"
   ]
  },
  {
   "cell_type": "code",
   "execution_count": 15,
   "metadata": {
    "collapsed": false
   },
   "outputs": [
    {
     "name": "stdout",
     "output_type": "stream",
     "text": [
      "e : 1\n",
      "emergencytype : 3\n",
      "emergencysubtype : 74\n"
     ]
    }
   ],
   "source": [
    "# look at categorical data\n",
    "cat_cols = ['e', # unknown data?\n",
    "            'emergencytype', # categorical\n",
    "            'emergencysubtype' # categorical\n",
    "           ]\n",
    "for col in cat_cols:\n",
    "    print col, ':', len(data[col].unique())"
   ]
  },
  {
   "cell_type": "code",
   "execution_count": null,
   "metadata": {
    "collapsed": true
   },
   "outputs": [],
   "source": [
    "#sleep"
   ]
  }
 ],
 "metadata": {
  "anaconda-cloud": {},
  "kernelspec": {
   "display_name": "Python [Root]",
   "language": "python",
   "name": "Python [Root]"
  },
  "language_info": {
   "codemirror_mode": {
    "name": "ipython",
    "version": 2
   },
   "file_extension": ".py",
   "mimetype": "text/x-python",
   "name": "python",
   "nbconvert_exporter": "python",
   "pygments_lexer": "ipython2",
   "version": "2.7.12"
  }
 },
 "nbformat": 4,
 "nbformat_minor": 0
}
